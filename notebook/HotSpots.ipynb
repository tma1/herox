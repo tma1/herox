{
 "cells": [
  {
   "cell_type": "code",
   "execution_count": 3,
   "metadata": {},
   "outputs": [],
   "source": [
    "import pandas as pd\n",
    "import geopandas as gp\n",
    "%matplotlib inline"
   ]
  },
  {
   "cell_type": "code",
   "execution_count": 6,
   "metadata": {},
   "outputs": [
    {
     "data": {
      "text/plain": [
       "<matplotlib.axes._subplots.AxesSubplot at 0x10fbbf1d0>"
      ]
     },
     "execution_count": 6,
     "metadata": {},
     "output_type": "execute_result"
    },
    {
     "data": {
      "image/png": "[encoded data removed]",
      "text/plain": [
       "<Figure size 432x288 with 1 Axes>"
      ]
     },
     "metadata": {},
     "output_type": "display_data"
    }
   ],
   "source": [
    "cartels = gp.read_file('data/Hot_Spots/Cartel_Activity.shp')\n",
    "cartels.plot()"
   ]
  },
  {
   "cell_type": "code",
   "execution_count": 12,
   "metadata": {},
   "outputs": [
    {
     "data": {
      "text/html": [
       "<div>\n",
       "<style scoped>\n",
       "    .dataframe tbody tr th:only-of-type {\n",
       "        vertical-align: middle;\n",
       "    }\n",
       "\n",
       "    .dataframe tbody tr th {\n",
       "        vertical-align: top;\n",
       "    }\n",
       "\n",
       "    .dataframe thead th {\n",
       "        text-align: right;\n",
       "    }\n",
       "</style>\n",
       "<table border=\"1\" class=\"dataframe\">\n",
       "  <thead>\n",
       "    <tr style=\"text-align: right;\">\n",
       "      <th></th>\n",
       "      <th>NOMBRE</th>\n",
       "      <th>TYPE</th>\n",
       "      <th>LAT_DD</th>\n",
       "      <th>LON_DD</th>\n",
       "      <th>geometry</th>\n",
       "    </tr>\n",
       "  </thead>\n",
       "  <tbody>\n",
       "    <tr>\n",
       "      <th>0</th>\n",
       "      <td>Presidencial Municipal</td>\n",
       "      <td>Juarez Capital Building</td>\n",
       "      <td>31.738768</td>\n",
       "      <td>-106.487883</td>\n",
       "      <td>None</td>\n",
       "    </tr>\n",
       "    <tr>\n",
       "      <th>1</th>\n",
       "      <td>Administrative Unit President Benito Juarez Ga...</td>\n",
       "      <td>Adminstrative Unit Admin Offices</td>\n",
       "      <td>31.746593</td>\n",
       "      <td>-106.484948</td>\n",
       "      <td>None</td>\n",
       "    </tr>\n",
       "    <tr>\n",
       "      <th>2</th>\n",
       "      <td>Oficinas de Recaudacion de Rentas</td>\n",
       "      <td>Government Office</td>\n",
       "      <td>31.746634</td>\n",
       "      <td>-106.486289</td>\n",
       "      <td>None</td>\n",
       "    </tr>\n",
       "    <tr>\n",
       "      <th>3</th>\n",
       "      <td>Fiscalia General del Estado de Chihuahua</td>\n",
       "      <td>Attorney General for the State of Chihuahua</td>\n",
       "      <td>31.712024</td>\n",
       "      <td>-106.461654</td>\n",
       "      <td>None</td>\n",
       "    </tr>\n",
       "    <tr>\n",
       "      <th>4</th>\n",
       "      <td>Customs</td>\n",
       "      <td>None</td>\n",
       "      <td>31.745882</td>\n",
       "      <td>-106.486181</td>\n",
       "      <td>None</td>\n",
       "    </tr>\n",
       "    <tr>\n",
       "      <th>5</th>\n",
       "      <td>NAFTA Center</td>\n",
       "      <td>None</td>\n",
       "      <td>31.745364</td>\n",
       "      <td>-106.481530</td>\n",
       "      <td>None</td>\n",
       "    </tr>\n",
       "  </tbody>\n",
       "</table>\n",
       "</div>"
      ],
      "text/plain": [
       "                                              NOMBRE  \\\n",
       "0                             Presidencial Municipal   \n",
       "1  Administrative Unit President Benito Juarez Ga...   \n",
       "2                  Oficinas de Recaudacion de Rentas   \n",
       "3           Fiscalia General del Estado de Chihuahua   \n",
       "4                                            Customs   \n",
       "5                                       NAFTA Center   \n",
       "\n",
       "                                          TYPE     LAT_DD      LON_DD geometry  \n",
       "0                      Juarez Capital Building  31.738768 -106.487883     None  \n",
       "1             Adminstrative Unit Admin Offices  31.746593 -106.484948     None  \n",
       "2                            Government Office  31.746634 -106.486289     None  \n",
       "3  Attorney General for the State of Chihuahua  31.712024 -106.461654     None  \n",
       "4                                         None  31.745882 -106.486181     None  \n",
       "5                                         None  31.745364 -106.481530     None  "
      ]
     },
     "execution_count": 12,
     "metadata": {},
     "output_type": "execute_result"
    }
   ],
   "source": [
    "locations = gp.read_file('data/Hot_Spots/location.dbf')\n",
    "locations"
   ]
  },
  {
   "cell_type": "code",
   "execution_count": null,
   "metadata": {},
   "outputs": [],
   "source": [
    "police = gp.read_file('data/Hot_Spots/police.dbf')\n",
    "police"
   ]
  }
 ],
 "metadata": {
  "kernelspec": {
   "display_name": "Python 3",
   "language": "python",
   "name": "python3"
  },
  "language_info": {
   "codemirror_mode": {
    "name": "ipython",
    "version": 3
   },
   "file_extension": ".py",
   "mimetype": "text/x-python",
   "name": "python",
   "nbconvert_exporter": "python",
   "pygments_lexer": "ipython3",
   "version": "3.6.6"
  }
 },
 "nbformat": 4,
 "nbformat_minor": 2
}
