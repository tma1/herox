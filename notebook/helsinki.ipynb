{
 "cells": [
  {
   "cell_type": "markdown",
   "metadata": {},
   "source": [
    "# Helsinki Population Point in Polygon\n",
    "\n",
    "### Source\n",
    "https://automating-gis-processes.github.io/2016/Lesson3-spatial-join.html"
   ]
  },
  {
   "cell_type": "code",
   "execution_count": 1,
   "metadata": {},
   "outputs": [],
   "source": [
    "%matplotlib inline\n",
    "import pandas as pd\n",
    "import geopandas as gpd\n",
    "from shapely.geometry import Point\n",
    "import matplotlib.pyplot as plt\n"
   ]
  },
  {
   "cell_type": "code",
   "execution_count": 2,
   "metadata": {},
   "outputs": [
    {
     "data": {
      "text/html": [
       "<div>\n",
       "<style scoped>\n",
       "    .dataframe tbody tr th:only-of-type {\n",
       "        vertical-align: middle;\n",
       "    }\n",
       "\n",
       "    .dataframe tbody tr th {\n",
       "        vertical-align: top;\n",
       "    }\n",
       "\n",
       "    .dataframe thead th {\n",
       "        text-align: right;\n",
       "    }\n",
       "</style>\n",
       "<table border=\"1\" class=\"dataframe\">\n",
       "  <thead>\n",
       "    <tr style=\"text-align: right;\">\n",
       "      <th></th>\n",
       "      <th>id</th>\n",
       "      <th>address</th>\n",
       "    </tr>\n",
       "  </thead>\n",
       "  <tbody>\n",
       "    <tr>\n",
       "      <th>0</th>\n",
       "      <td>1000</td>\n",
       "      <td>Itämerenkatu 14, 00101 Helsinki, Finland</td>\n",
       "    </tr>\n",
       "    <tr>\n",
       "      <th>1</th>\n",
       "      <td>1001</td>\n",
       "      <td>Kampinkuja 1, 00100 Helsinki, Finland</td>\n",
       "    </tr>\n",
       "  </tbody>\n",
       "</table>\n",
       "</div>"
      ],
      "text/plain": [
       "     id                                   address\n",
       "0  1000  Itämerenkatu 14, 00101 Helsinki, Finland\n",
       "1  1001     Kampinkuja 1, 00100 Helsinki, Finland"
      ]
     },
     "execution_count": 2,
     "metadata": {},
     "output_type": "execute_result"
    }
   ],
   "source": [
    "addresses = pd.read_csv('data/addresses.txt', sep=';')\n",
    "addresses.head(2)"
   ]
  },
  {
   "cell_type": "code",
   "execution_count": null,
   "metadata": {},
   "outputs": [],
   "source": [
    "from geopandas.tools import geocode\n",
    "\n",
    "with open('secrets/gmap-api-key.txt', 'r') as f:\n",
    "    api_key = f.read().strip()\n",
    "\n",
    "geo = geocode(addresses['address'], api_key=api_key)\n",
    "geo.head(2)"
   ]
  },
  {
   "cell_type": "code",
   "execution_count": 65,
   "metadata": {},
   "outputs": [
    {
     "data": {
      "text/html": [
       "<div>\n",
       "<style scoped>\n",
       "    .dataframe tbody tr th:only-of-type {\n",
       "        vertical-align: middle;\n",
       "    }\n",
       "\n",
       "    .dataframe tbody tr th {\n",
       "        vertical-align: top;\n",
       "    }\n",
       "\n",
       "    .dataframe thead th {\n",
       "        text-align: right;\n",
       "    }\n",
       "</style>\n",
       "<table border=\"1\" class=\"dataframe\">\n",
       "  <thead>\n",
       "    <tr style=\"text-align: right;\">\n",
       "      <th></th>\n",
       "      <th>geometry</th>\n",
       "      <th>address</th>\n",
       "      <th>id</th>\n",
       "    </tr>\n",
       "  </thead>\n",
       "  <tbody>\n",
       "    <tr>\n",
       "      <th>0</th>\n",
       "      <td>POINT (24.9301702 60.1683731)</td>\n",
       "      <td>Kampinkuja 1, 00100 Helsinki, Finland</td>\n",
       "      <td>1001</td>\n",
       "    </tr>\n",
       "    <tr>\n",
       "      <th>1</th>\n",
       "      <td>POINT (25.080468 60.2097919)</td>\n",
       "      <td>Itäväylä, 00900 Helsinki, Finland</td>\n",
       "      <td>1004</td>\n",
       "    </tr>\n",
       "  </tbody>\n",
       "</table>\n",
       "</div>"
      ],
      "text/plain": [
       "                        geometry                                address    id\n",
       "0  POINT (24.9301702 60.1683731)  Kampinkuja 1, 00100 Helsinki, Finland  1001\n",
       "1   POINT (25.080468 60.2097919)      Itäväylä, 00900 Helsinki, Finland  1004"
      ]
     },
     "execution_count": 65,
     "metadata": {},
     "output_type": "execute_result"
    }
   ],
   "source": [
    "join = geo.merge(addresses, on='address')\n",
    "join.to_file('data/addresses.shp')"
   ]
  },
  {
   "cell_type": "code",
   "execution_count": 67,
   "metadata": {},
   "outputs": [
    {
     "data": {
      "text/plain": [
       "{'init': 'epsg:4326'}"
      ]
     },
     "execution_count": 67,
     "metadata": {},
     "output_type": "execute_result"
    }
   ],
   "source": [
    "addresses = gp.read_file('data/addresses.shp')\n",
    "addresses.crs"
   ]
  },
  {
   "cell_type": "code",
   "execution_count": 68,
   "metadata": {},
   "outputs": [
    {
     "data": {
      "text/plain": [
       "0     POINT (25496123.31407359 6672833.94156171)\n",
       "1    POINT (25504461.65490529 6677449.307336226)\n",
       "Name: geometry, dtype: object"
      ]
     },
     "execution_count": 68,
     "metadata": {},
     "output_type": "execute_result"
    }
   ],
   "source": [
    "addr_proj = addresses.copy()\n",
    "addr_proj['geometry'] = addr_proj['geometry'].to_crs(epsg=3879)\n",
    "addr_proj['geometry'].head(2)"
   ]
  },
  {
   "cell_type": "code",
   "execution_count": 69,
   "metadata": {},
   "outputs": [
    {
     "data": {
      "text/plain": [
       "{'init': 'epsg:3879', 'no_defs': True}"
      ]
     },
     "execution_count": 69,
     "metadata": {},
     "output_type": "execute_result"
    }
   ],
   "source": [
    "from fiona.crs import from_epsg\n",
    "\n",
    "addr_proj.crs = from_epsg(3879)\n",
    "addr_proj.crs"
   ]
  },
  {
   "cell_type": "code",
   "execution_count": 70,
   "metadata": {},
   "outputs": [
    {
     "data": {
      "image/png": "[encoded data removed]",
      "text/plain": [
       "<Figure size 432x288 with 1 Axes>"
      ]
     },
     "metadata": {},
     "output_type": "display_data"
    },
    {
     "data": {
      "image/png": "[encoded data removed]",
      "text/plain": [
       "<Figure size 432x288 with 1 Axes>"
      ]
     },
     "metadata": {},
     "output_type": "display_data"
    }
   ],
   "source": [
    "addresses.plot(markersize=6, color=\"red\");\n",
    "plt.title(\"WGS84 projection\");\n",
    "plt.tight_layout()\n",
    "\n",
    "addr_proj.plot(markersize=6, color=\"blue\");\n",
    "plt.title(\"ETRS GK-25 projection\");\n",
    "plt.tight_layout()\n",
    "\n",
    "addr_proj.to_file('data/addresses_epsg3879.shp')"
   ]
  },
  {
   "cell_type": "code",
   "execution_count": 71,
   "metadata": {},
   "outputs": [
    {
     "data": {
      "text/html": [
       "<div>\n",
       "<style scoped>\n",
       "    .dataframe tbody tr th:only-of-type {\n",
       "        vertical-align: middle;\n",
       "    }\n",
       "\n",
       "    .dataframe tbody tr th {\n",
       "        vertical-align: top;\n",
       "    }\n",
       "\n",
       "    .dataframe thead th {\n",
       "        text-align: right;\n",
       "    }\n",
       "</style>\n",
       "<table border=\"1\" class=\"dataframe\">\n",
       "  <thead>\n",
       "    <tr style=\"text-align: right;\">\n",
       "      <th></th>\n",
       "      <th>INDEX</th>\n",
       "      <th>ASUKKAITA</th>\n",
       "      <th>ASVALJYYS</th>\n",
       "      <th>IKA0_9</th>\n",
       "      <th>IKA10_19</th>\n",
       "      <th>IKA20_29</th>\n",
       "      <th>IKA30_39</th>\n",
       "      <th>IKA40_49</th>\n",
       "      <th>IKA50_59</th>\n",
       "      <th>IKA60_69</th>\n",
       "      <th>IKA70_79</th>\n",
       "      <th>IKA_YLI80</th>\n",
       "      <th>geometry</th>\n",
       "    </tr>\n",
       "  </thead>\n",
       "  <tbody>\n",
       "    <tr>\n",
       "      <th>0</th>\n",
       "      <td>688</td>\n",
       "      <td>8</td>\n",
       "      <td>31.0</td>\n",
       "      <td>99</td>\n",
       "      <td>99</td>\n",
       "      <td>99</td>\n",
       "      <td>99</td>\n",
       "      <td>99</td>\n",
       "      <td>99</td>\n",
       "      <td>99</td>\n",
       "      <td>99</td>\n",
       "      <td>99</td>\n",
       "      <td>POLYGON ((25472499.99532626 6689749.005069185,...</td>\n",
       "    </tr>\n",
       "    <tr>\n",
       "      <th>1</th>\n",
       "      <td>703</td>\n",
       "      <td>6</td>\n",
       "      <td>42.0</td>\n",
       "      <td>99</td>\n",
       "      <td>99</td>\n",
       "      <td>99</td>\n",
       "      <td>99</td>\n",
       "      <td>99</td>\n",
       "      <td>99</td>\n",
       "      <td>99</td>\n",
       "      <td>99</td>\n",
       "      <td>99</td>\n",
       "      <td>POLYGON ((25472499.99532626 6685998.998064222,...</td>\n",
       "    </tr>\n",
       "  </tbody>\n",
       "</table>\n",
       "</div>"
      ],
      "text/plain": [
       "   INDEX  ASUKKAITA  ASVALJYYS  IKA0_9  IKA10_19  IKA20_29  IKA30_39  \\\n",
       "0    688          8       31.0      99        99        99        99   \n",
       "1    703          6       42.0      99        99        99        99   \n",
       "\n",
       "   IKA40_49  IKA50_59  IKA60_69  IKA70_79  IKA_YLI80  \\\n",
       "0        99        99        99        99         99   \n",
       "1        99        99        99        99         99   \n",
       "\n",
       "                                            geometry  \n",
       "0  POLYGON ((25472499.99532626 6689749.005069185,...  \n",
       "1  POLYGON ((25472499.99532626 6685998.998064222,...  "
      ]
     },
     "execution_count": 71,
     "metadata": {},
     "output_type": "execute_result"
    }
   ],
   "source": [
    "\n",
    "pop = gp.read_file('data/Pop15/Vaestotietoruudukko_2015.shp')\n",
    "pop.head(2)"
   ]
  },
  {
   "cell_type": "code",
   "execution_count": 72,
   "metadata": {},
   "outputs": [
    {
     "data": {
      "text/html": [
       "<div>\n",
       "<style scoped>\n",
       "    .dataframe tbody tr th:only-of-type {\n",
       "        vertical-align: middle;\n",
       "    }\n",
       "\n",
       "    .dataframe tbody tr th {\n",
       "        vertical-align: top;\n",
       "    }\n",
       "\n",
       "    .dataframe thead th {\n",
       "        text-align: right;\n",
       "    }\n",
       "</style>\n",
       "<table border=\"1\" class=\"dataframe\">\n",
       "  <thead>\n",
       "    <tr style=\"text-align: right;\">\n",
       "      <th></th>\n",
       "      <th>pop15</th>\n",
       "      <th>geometry</th>\n",
       "    </tr>\n",
       "  </thead>\n",
       "  <tbody>\n",
       "    <tr>\n",
       "      <th>5782</th>\n",
       "      <td>9</td>\n",
       "      <td>POLYGON ((25513499.99632164 6685498.999797418,...</td>\n",
       "    </tr>\n",
       "    <tr>\n",
       "      <th>5783</th>\n",
       "      <td>30244</td>\n",
       "      <td>POLYGON ((25513999.999929 6659998.998172711, 2...</td>\n",
       "    </tr>\n",
       "  </tbody>\n",
       "</table>\n",
       "</div>"
      ],
      "text/plain": [
       "      pop15                                           geometry\n",
       "5782      9  POLYGON ((25513499.99632164 6685498.999797418,...\n",
       "5783  30244  POLYGON ((25513999.999929 6659998.998172711, 2..."
      ]
     },
     "execution_count": 72,
     "metadata": {},
     "output_type": "execute_result"
    }
   ],
   "source": [
    "pop = pop.rename(columns={'ASUKKAITA': 'pop15'})\n",
    "selected_cols = ['pop15', 'geometry']\n",
    "pop = pop[selected_cols]\n",
    "\n",
    "pop.tail(2)"
   ]
  },
  {
   "cell_type": "code",
   "execution_count": 83,
   "metadata": {},
   "outputs": [
    {
     "data": {
      "text/html": [
       "<div>\n",
       "<style scoped>\n",
       "    .dataframe tbody tr th:only-of-type {\n",
       "        vertical-align: middle;\n",
       "    }\n",
       "\n",
       "    .dataframe tbody tr th {\n",
       "        vertical-align: top;\n",
       "    }\n",
       "\n",
       "    .dataframe thead th {\n",
       "        text-align: right;\n",
       "    }\n",
       "</style>\n",
       "<table border=\"1\" class=\"dataframe\">\n",
       "  <thead>\n",
       "    <tr style=\"text-align: right;\">\n",
       "      <th></th>\n",
       "      <th>address</th>\n",
       "      <th>id</th>\n",
       "      <th>geometry</th>\n",
       "    </tr>\n",
       "  </thead>\n",
       "  <tbody>\n",
       "    <tr>\n",
       "      <th>0</th>\n",
       "      <td>Kampinkuja 1, 00100 Helsinki, Finland</td>\n",
       "      <td>1001</td>\n",
       "      <td>POINT (25496123.31407359 6672833.94156171)</td>\n",
       "    </tr>\n",
       "    <tr>\n",
       "      <th>1</th>\n",
       "      <td>Itäväylä, 00900 Helsinki, Finland</td>\n",
       "      <td>1004</td>\n",
       "      <td>POINT (25504461.65490529 6677449.307336226)</td>\n",
       "    </tr>\n",
       "  </tbody>\n",
       "</table>\n",
       "</div>"
      ],
      "text/plain": [
       "                                 address    id  \\\n",
       "0  Kampinkuja 1, 00100 Helsinki, Finland  1001   \n",
       "1      Itäväylä, 00900 Helsinki, Finland  1004   \n",
       "\n",
       "                                      geometry  \n",
       "0   POINT (25496123.31407359 6672833.94156171)  \n",
       "1  POINT (25504461.65490529 6677449.307336226)  "
      ]
     },
     "execution_count": 83,
     "metadata": {},
     "output_type": "execute_result"
    }
   ],
   "source": [
    "addrs = gp.read_file('data/addresses_epsg3879.shp')\n",
    "addrs.head(2)"
   ]
  },
  {
   "cell_type": "code",
   "execution_count": 85,
   "metadata": {},
   "outputs": [
    {
     "data": {
      "text/plain": [
       "True"
      ]
     },
     "execution_count": 85,
     "metadata": {},
     "output_type": "execute_result"
    }
   ],
   "source": [
    "addrs.crs == pop.crs"
   ]
  },
  {
   "cell_type": "code",
   "execution_count": 86,
   "metadata": {},
   "outputs": [
    {
     "data": {
      "text/html": [
       "<div>\n",
       "<style scoped>\n",
       "    .dataframe tbody tr th:only-of-type {\n",
       "        vertical-align: middle;\n",
       "    }\n",
       "\n",
       "    .dataframe tbody tr th {\n",
       "        vertical-align: top;\n",
       "    }\n",
       "\n",
       "    .dataframe thead th {\n",
       "        text-align: right;\n",
       "    }\n",
       "</style>\n",
       "<table border=\"1\" class=\"dataframe\">\n",
       "  <thead>\n",
       "    <tr style=\"text-align: right;\">\n",
       "      <th></th>\n",
       "      <th>address</th>\n",
       "      <th>id</th>\n",
       "      <th>geometry</th>\n",
       "      <th>index_right</th>\n",
       "      <th>pop15</th>\n",
       "    </tr>\n",
       "  </thead>\n",
       "  <tbody>\n",
       "    <tr>\n",
       "      <th>0</th>\n",
       "      <td>Kampinkuja 1, 00100 Helsinki, Finland</td>\n",
       "      <td>1001</td>\n",
       "      <td>POINT (25496123.31407359 6672833.94156171)</td>\n",
       "      <td>3326</td>\n",
       "      <td>173</td>\n",
       "    </tr>\n",
       "    <tr>\n",
       "      <th>1</th>\n",
       "      <td>Itäväylä, 00900 Helsinki, Finland</td>\n",
       "      <td>1004</td>\n",
       "      <td>POINT (25504461.65490529 6677449.307336226)</td>\n",
       "      <td>4933</td>\n",
       "      <td>459</td>\n",
       "    </tr>\n",
       "    <tr>\n",
       "      <th>2</th>\n",
       "      <td>Tyynenmerenkatu 9, 00220 Helsinki, Finland</td>\n",
       "      <td>1005</td>\n",
       "      <td>POINT (25495639.56049686 6671520.343245601)</td>\n",
       "      <td>3259</td>\n",
       "      <td>1397</td>\n",
       "    </tr>\n",
       "    <tr>\n",
       "      <th>3</th>\n",
       "      <td>Kontulantie 18, 00940 Helsinki, Finland</td>\n",
       "      <td>1006</td>\n",
       "      <td>POINT (25504526.0827151 6680245.787481702)</td>\n",
       "      <td>4981</td>\n",
       "      <td>394</td>\n",
       "    </tr>\n",
       "    <tr>\n",
       "      <th>5</th>\n",
       "      <td>Tapulikaupungintie 3, 00750 Helsinki, Finland</td>\n",
       "      <td>1008</td>\n",
       "      <td>POINT (25501984.05772807 6684755.73132898)</td>\n",
       "      <td>4291</td>\n",
       "      <td>1027</td>\n",
       "    </tr>\n",
       "    <tr>\n",
       "      <th>6</th>\n",
       "      <td>Sompionpolku 2, 00730 Helsinki, Finland</td>\n",
       "      <td>1009</td>\n",
       "      <td>POINT (25501611.29323668 6683417.520333283)</td>\n",
       "      <td>4239</td>\n",
       "      <td>250</td>\n",
       "    </tr>\n",
       "    <tr>\n",
       "      <th>8</th>\n",
       "      <td>Rautatientori 1, 00100 Helsinki, Finland</td>\n",
       "      <td>1011</td>\n",
       "      <td>POINT (25496808.64582102 6673146.836896984)</td>\n",
       "      <td>3449</td>\n",
       "      <td>31</td>\n",
       "    </tr>\n",
       "    <tr>\n",
       "      <th>9</th>\n",
       "      <td>Kuparitie 8, 00440 Helsinki, Finland</td>\n",
       "      <td>1012</td>\n",
       "      <td>POINT (25493579.52155477 6679773.85501982)</td>\n",
       "      <td>2949</td>\n",
       "      <td>562</td>\n",
       "    </tr>\n",
       "    <tr>\n",
       "      <th>10</th>\n",
       "      <td>Kylätie 23, 00320 Helsinki, Finland</td>\n",
       "      <td>1016</td>\n",
       "      <td>POINT (25494138.53128187 6678278.679355158)</td>\n",
       "      <td>3036</td>\n",
       "      <td>414</td>\n",
       "    </tr>\n",
       "    <tr>\n",
       "      <th>11</th>\n",
       "      <td>Åggelby torg 2b, 00640 Helsingfors, Finland</td>\n",
       "      <td>1018</td>\n",
       "      <td>POINT (25498174.30070278 6679599.77951518)</td>\n",
       "      <td>3672</td>\n",
       "      <td>260</td>\n",
       "    </tr>\n",
       "    <tr>\n",
       "      <th>12</th>\n",
       "      <td>Pitäjänmäentie 15, 00370 Helsinki, Finland</td>\n",
       "      <td>1020</td>\n",
       "      <td>POINT (25492292.61413005 6679039.264838208)</td>\n",
       "      <td>2691</td>\n",
       "      <td>241</td>\n",
       "    </tr>\n",
       "    <tr>\n",
       "      <th>13</th>\n",
       "      <td>Eskolantie 2, 00720 Helsinki, Finland</td>\n",
       "      <td>1021</td>\n",
       "      <td>POINT (25499644.756048 6681220.281115301)</td>\n",
       "      <td>3879</td>\n",
       "      <td>371</td>\n",
       "    </tr>\n",
       "    <tr>\n",
       "      <th>15</th>\n",
       "      <td>Varvasmäenkuja, 00920 Helsinki, Finland</td>\n",
       "      <td>1025</td>\n",
       "      <td>POINT (25504222.43580336 6679127.061034777)</td>\n",
       "      <td>4865</td>\n",
       "      <td>564</td>\n",
       "    </tr>\n",
       "    <tr>\n",
       "      <th>16</th>\n",
       "      <td>Hiihtäjäntie 2, 00810 Helsinki, Finland</td>\n",
       "      <td>1028</td>\n",
       "      <td>POINT (25501611.06915757 6675698.640684319)</td>\n",
       "      <td>4259</td>\n",
       "      <td>196</td>\n",
       "    </tr>\n",
       "    <tr>\n",
       "      <th>17</th>\n",
       "      <td>Ukko-Pekan porras, 00570 Helsinki, Finland</td>\n",
       "      <td>1029</td>\n",
       "      <td>POINT (25500379.49456937 6675060.452120329)</td>\n",
       "      <td>4016</td>\n",
       "      <td>320</td>\n",
       "    </tr>\n",
       "    <tr>\n",
       "      <th>18</th>\n",
       "      <td>Urho Kekkosen katu 1, 00100 Helsinki, Finland</td>\n",
       "      <td>1031</td>\n",
       "      <td>POINT (25496308.21793356 6672951.137816119)</td>\n",
       "      <td>3358</td>\n",
       "      <td>308</td>\n",
       "    </tr>\n",
       "    <tr>\n",
       "      <th>19</th>\n",
       "      <td>Gräsviksgatan 17, 00101 Helsingfors, Finland</td>\n",
       "      <td>1032</td>\n",
       "      <td>POINT (25495836.25742668 6672458.597625383)</td>\n",
       "      <td>3296</td>\n",
       "      <td>1642</td>\n",
       "    </tr>\n",
       "    <tr>\n",
       "      <th>20</th>\n",
       "      <td>Stillahavsgatan 3, 00220 Helsingfors, Finland</td>\n",
       "      <td>1033</td>\n",
       "      <td>POINT (25495636.48637465 6671797.959831564)</td>\n",
       "      <td>3258</td>\n",
       "      <td>590</td>\n",
       "    </tr>\n",
       "    <tr>\n",
       "      <th>21</th>\n",
       "      <td>Torisilta, 00980 Helsinki, Finland</td>\n",
       "      <td>1035</td>\n",
       "      <td>POINT (25506681.96711511 6676973.363885282)</td>\n",
       "      <td>5438</td>\n",
       "      <td>443</td>\n",
       "    </tr>\n",
       "  </tbody>\n",
       "</table>\n",
       "</div>"
      ],
      "text/plain": [
       "                                          address    id  \\\n",
       "0           Kampinkuja 1, 00100 Helsinki, Finland  1001   \n",
       "1               Itäväylä, 00900 Helsinki, Finland  1004   \n",
       "2      Tyynenmerenkatu 9, 00220 Helsinki, Finland  1005   \n",
       "3         Kontulantie 18, 00940 Helsinki, Finland  1006   \n",
       "5   Tapulikaupungintie 3, 00750 Helsinki, Finland  1008   \n",
       "6         Sompionpolku 2, 00730 Helsinki, Finland  1009   \n",
       "8        Rautatientori 1, 00100 Helsinki, Finland  1011   \n",
       "9            Kuparitie 8, 00440 Helsinki, Finland  1012   \n",
       "10            Kylätie 23, 00320 Helsinki, Finland  1016   \n",
       "11    Åggelby torg 2b, 00640 Helsingfors, Finland  1018   \n",
       "12     Pitäjänmäentie 15, 00370 Helsinki, Finland  1020   \n",
       "13          Eskolantie 2, 00720 Helsinki, Finland  1021   \n",
       "15        Varvasmäenkuja, 00920 Helsinki, Finland  1025   \n",
       "16        Hiihtäjäntie 2, 00810 Helsinki, Finland  1028   \n",
       "17     Ukko-Pekan porras, 00570 Helsinki, Finland  1029   \n",
       "18  Urho Kekkosen katu 1, 00100 Helsinki, Finland  1031   \n",
       "19   Gräsviksgatan 17, 00101 Helsingfors, Finland  1032   \n",
       "20  Stillahavsgatan 3, 00220 Helsingfors, Finland  1033   \n",
       "21             Torisilta, 00980 Helsinki, Finland  1035   \n",
       "\n",
       "                                       geometry  index_right  pop15  \n",
       "0    POINT (25496123.31407359 6672833.94156171)         3326    173  \n",
       "1   POINT (25504461.65490529 6677449.307336226)         4933    459  \n",
       "2   POINT (25495639.56049686 6671520.343245601)         3259   1397  \n",
       "3    POINT (25504526.0827151 6680245.787481702)         4981    394  \n",
       "5    POINT (25501984.05772807 6684755.73132898)         4291   1027  \n",
       "6   POINT (25501611.29323668 6683417.520333283)         4239    250  \n",
       "8   POINT (25496808.64582102 6673146.836896984)         3449     31  \n",
       "9    POINT (25493579.52155477 6679773.85501982)         2949    562  \n",
       "10  POINT (25494138.53128187 6678278.679355158)         3036    414  \n",
       "11   POINT (25498174.30070278 6679599.77951518)         3672    260  \n",
       "12  POINT (25492292.61413005 6679039.264838208)         2691    241  \n",
       "13    POINT (25499644.756048 6681220.281115301)         3879    371  \n",
       "15  POINT (25504222.43580336 6679127.061034777)         4865    564  \n",
       "16  POINT (25501611.06915757 6675698.640684319)         4259    196  \n",
       "17  POINT (25500379.49456937 6675060.452120329)         4016    320  \n",
       "18  POINT (25496308.21793356 6672951.137816119)         3358    308  \n",
       "19  POINT (25495836.25742668 6672458.597625383)         3296   1642  \n",
       "20  POINT (25495636.48637465 6671797.959831564)         3258    590  \n",
       "21  POINT (25506681.96711511 6676973.363885282)         5438    443  "
      ]
     },
     "execution_count": 86,
     "metadata": {},
     "output_type": "execute_result"
    }
   ],
   "source": [
    "join = gp.sjoin(addrs, pop, how=\"inner\", op=\"within\")\n",
    "join.to_file('data/addresses_pop15_epsg3979.shp')\n",
    "join"
   ]
  },
  {
   "cell_type": "code",
   "execution_count": 98,
   "metadata": {},
   "outputs": [
    {
     "data": {
      "image/png": "[encoded data removed]",
      "text/plain": [
       "<Figure size 432x288 with 1 Axes>"
      ]
     },
     "metadata": {},
     "output_type": "display_data"
    }
   ],
   "source": [
    "join.plot(column='pop15', cmap=\"Greens\", markersize=7, scheme='equal_interval', legend=True)\n",
    "plt.title(\"Amount of inhabitants living close the the point\")\n",
    "plt.tight_layout()"
   ]
  }
 ],
 "metadata": {
  "kernelspec": {
   "display_name": "Python 3",
   "language": "python",
   "name": "python3"
  },
  "language_info": {
   "codemirror_mode": {
    "name": "ipython",
    "version": 3
   },
   "file_extension": ".py",
   "mimetype": "text/x-python",
   "name": "python",
   "nbconvert_exporter": "python",
   "pygments_lexer": "ipython3",
   "version": "3.6.6"
  }
 },
 "nbformat": 4,
 "nbformat_minor": 2
}
